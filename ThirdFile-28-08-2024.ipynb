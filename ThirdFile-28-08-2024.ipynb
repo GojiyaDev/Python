{
 "cells": [
  {
   "cell_type": "code",
   "execution_count": 1,
   "id": "465a4e2d-f8e3-4a51-8b94-f4882b3ad6a8",
   "metadata": {},
   "outputs": [
    {
     "name": "stdout",
     "output_type": "stream",
     "text": [
      "0b101\n"
     ]
    }
   ],
   "source": [
    "a = 5\n",
    "bina = bin(a)\n",
    "print(bina)"
   ]
  },
  {
   "cell_type": "code",
   "execution_count": 15,
   "id": "fe934eee-1a3c-455c-895e-966350d158fc",
   "metadata": {},
   "outputs": [
    {
     "data": {
      "text/plain": [
       "'~a\\nbinnot a = bin(~a)\\nprint(binnnot)'"
      ]
     },
     "execution_count": 15,
     "metadata": {},
     "output_type": "execute_result"
    }
   ],
   "source": [
    "\"\"\"~a\n",
    "binnot a = bin(~a)\n",
    "print(binnnot)\"\"\""
   ]
  },
  {
   "cell_type": "code",
   "execution_count": 7,
   "id": "936402f1-1205-4f3f-b7d0-ec9d919b431f",
   "metadata": {},
   "outputs": [
    {
     "data": {
      "text/plain": [
       "(7, 7)"
      ]
     },
     "execution_count": 7,
     "metadata": {},
     "output_type": "execute_result"
    }
   ],
   "source": [
    "a = 6 #1 1 0\n",
    "b = 1 #0 0 1\n",
    "c = a | b #1 1 1\n",
    "d = a ^ b # XOR\n",
    "c,d"
   ]
  },
  {
   "cell_type": "code",
   "execution_count": null,
   "id": "7e579146-13c8-4fb1-a1cd-05f9a7988e35",
   "metadata": {},
   "outputs": [],
   "source": [
    "#dec to binary\n",
    "# 1 1\n",
    "# 2 10\n",
    "# 4, 100\n",
    "# 8 1000\n",
    "# 16 10000\n",
    "# 32 100000\n",
    "# 64 1000000\n",
    "# 128 10000000"
   ]
  },
  {
   "cell_type": "code",
   "execution_count": 11,
   "id": "d0359e2d-40ef-49a1-a397-bb80de5957c9",
   "metadata": {},
   "outputs": [
    {
     "name": "stdout",
     "output_type": "stream",
     "text": [
      "32\n"
     ]
    }
   ],
   "source": [
    "# Right Shift\n",
    "a = 128\n",
    "lshifta = a >> 2#right shift\n",
    "print(lshifta)\n"
   ]
  },
  {
   "cell_type": "code",
   "execution_count": 13,
   "id": "5738a2f9-33bd-4083-8c93-1453a1b0a90f",
   "metadata": {},
   "outputs": [
    {
     "name": "stdout",
     "output_type": "stream",
     "text": [
      "512\n"
     ]
    }
   ],
   "source": [
    "#Left Shift\n",
    "\n",
    "a = 128\n",
    "rshifta = a << 2#Left shift\n",
    "print(rshifta)\n"
   ]
  },
  {
   "cell_type": "code",
   "execution_count": 4,
   "id": "9904e03b-95b4-4037-9ca5-107b6f4cf8b1",
   "metadata": {},
   "outputs": [
    {
     "name": "stdin",
     "output_type": "stream",
     "text": [
      "Enter a Number 2\n"
     ]
    },
    {
     "name": "stdout",
     "output_type": "stream",
     "text": [
      "1 x 2 = 2\n",
      "2 x 2 = 4\n",
      "3 x 2 = 6\n",
      "4 x 2 = 8\n",
      "5 x 2 = 10\n",
      "6 x 2 = 12\n",
      "7 x 2 = 14\n",
      "8 x 2 = 16\n",
      "9 x 2 = 18\n",
      "10 x 2 = 20\n"
     ]
    }
   ],
   "source": [
    "#break Statement\n",
    "a = 1 \n",
    "b = int(input(\"Enter a Number\"))\n",
    "while a <= 100:\n",
    "    print(f\"{a} x {b} = {a*b}\")\n",
    "    a += 1\n",
    "    if a > 10:\n",
    "        break #terminates loop or and loop\n",
    "    "
   ]
  },
  {
   "cell_type": "code",
   "execution_count": null,
   "id": "a0dd9bef-24ac-492a-9d7a-4e546fd753ff",
   "metadata": {},
   "outputs": [
    {
     "name": "stdin",
     "output_type": "stream",
     "text": [
      "Enter a Number 5\n"
     ]
    },
    {
     "name": "stdout",
     "output_type": "stream",
     "text": [
      "1 x 5 = 5\n",
      "2 x 5 = 10\n",
      "3 x 5 = 15\n",
      "4 x 5 = 20\n",
      "5 x 5 = 25\n"
     ]
    }
   ],
   "source": [
    "#Continue Statement\n",
    "a = 1 \n",
    "b = int(input(\"Enter a Number\"))\n",
    "while a <= 10:\n",
    "    if a > 5:\n",
    "        continue #continue Use to Jump \n",
    "    print(f\"{a} x {b} = {a*b}\")\n",
    "    a += 1"
   ]
  },
  {
   "cell_type": "code",
   "execution_count": null,
   "id": "386c3bfb-1e11-4008-8418-c037524d0c9e",
   "metadata": {},
   "outputs": [],
   "source": []
  },
  {
   "cell_type": "code",
   "execution_count": null,
   "id": "ef238d19-f359-4b22-ba44-91b5225405ee",
   "metadata": {},
   "outputs": [],
   "source": []
  }
 ],
 "metadata": {
  "kernelspec": {
   "display_name": "Python 3 (ipykernel)",
   "language": "python",
   "name": "python3"
  },
  "language_info": {
   "codemirror_mode": {
    "name": "ipython",
    "version": 3
   },
   "file_extension": ".py",
   "mimetype": "text/x-python",
   "name": "python",
   "nbconvert_exporter": "python",
   "pygments_lexer": "ipython3",
   "version": "3.12.4"
  }
 },
 "nbformat": 4,
 "nbformat_minor": 5
}
