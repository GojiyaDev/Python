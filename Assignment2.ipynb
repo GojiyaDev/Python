{
 "cells": [
  {
   "cell_type": "code",
   "execution_count": 38,
   "id": "9df82657-2ab2-4eca-afa1-0b95f7df253f",
   "metadata": {},
   "outputs": [
    {
     "name": "stdout",
     "output_type": "stream",
     "text": [
      "Hello Dev\n",
      "Good Moring Dev\n"
     ]
    }
   ],
   "source": [
    "#Program 1 Basic Function Implementation\n",
    "# creating a function for Greeting \n",
    "def greet(name, greeting=\"Hello\"):    \n",
    "\n",
    "    #Using Formatting String to Display a message\n",
    "    print(f\"{greeting} {name}\")\n",
    "\n",
    "#Call A greet Function\n",
    "greet(\"Dev\")  \n",
    "greet(\"Dev\", \"Good Moring\")  \n"
   ]
  },
  {
   "cell_type": "code",
   "execution_count": 32,
   "id": "a9832f18-c9ec-46a5-903e-1a427570775e",
   "metadata": {},
   "outputs": [
    {
     "name": "stdout",
     "output_type": "stream",
     "text": [
      "Name: Dev, Age: 18, City: Porbandar\n",
      "Name: Dev, Age: 21, City: Porbandar\n"
     ]
    }
   ],
   "source": [
    "#Program 2 Named Arguments\n",
    "def create_profile(name,city, age=18):\n",
    "    #using Formatting String to display a message\n",
    "    print(f\"Name: {name}, Age: {age}, City: {city}\")\n",
    "\n",
    "create_profile(name=\"Dev\",  city=\"Porbandar\")\n",
    "create_profile(name=\"Dev\", age=21, city=\"Porbandar\")"
   ]
  },
  {
   "cell_type": "code",
   "execution_count": 34,
   "id": "59cb7503-46e4-4a53-8409-837035fc1f61",
   "metadata": {},
   "outputs": [
    {
     "data": {
      "text/plain": [
       "(3, {'x': 4, 'y': 5})"
      ]
     },
     "execution_count": 34,
     "metadata": {},
     "output_type": "execute_result"
    }
   ],
   "source": [
    "#Program 3 **Using *args and Kwargs\n",
    "def sum_numbers(*args, **kwargs):\n",
    "    # Sum of all *args if they are numbers\n",
    "    sum_of_args = sum(arg for arg in args if isinstance(arg, (int, float)))\n",
    "    \n",
    "    # Return a dictionary of all keyword arguments\n",
    "    return sum_of_args, kwargs\n",
    "sum_numbers(1,2,3,)\n",
    "sum_numbers(1,2,x=4,y=5)"
   ]
  },
  {
   "cell_type": "code",
   "execution_count": 4,
   "id": "782acb98-2c4d-4a01-b353-4f2a597b4561",
   "metadata": {},
   "outputs": [
    {
     "data": {
      "text/plain": [
       "[1, 4, 9, 16, 25]"
      ]
     },
     "execution_count": 4,
     "metadata": {},
     "output_type": "execute_result"
    }
   ],
   "source": [
    "#Program 4 Lamdbas and map\n",
    "def square_list(lst):\n",
    "    return list(map(lambda x: x * x, lst))\n",
    "\n",
    "square_list([1, 2, 3, 4, 5])\n",
    "\n"
   ]
  },
  {
   "cell_type": "code",
   "execution_count": 14,
   "id": "c3aa742e-3205-45fe-b216-1275df9dae87",
   "metadata": {},
   "outputs": [
    {
     "data": {
      "text/plain": [
       "[2, 4]"
      ]
     },
     "execution_count": 14,
     "metadata": {},
     "output_type": "execute_result"
    }
   ],
   "source": [
    "#Program 5 Filter and Lambdas\n",
    "def Filter_(lst):\n",
    "    return list(filter(lambda x: x%2==0, lst))\n",
    "\n",
    "square_list([1, 2, 3, 4, 5])\n",
    "\n"
   ]
  },
  {
   "cell_type": "code",
   "execution_count": 18,
   "id": "ddc87fb1-0e23-4d7d-b1b4-a8ed4d726da9",
   "metadata": {},
   "outputs": [
    {
     "data": {
      "text/plain": [
       "[0, 1, 4, 9, 16]"
      ]
     },
     "execution_count": 18,
     "metadata": {},
     "output_type": "execute_result"
    }
   ],
   "source": [
    "#Program 6 Basic list Comphension\n",
    "\n",
    "def square_list_comp():    \n",
    "    list = [x**2 for x in range(5)]\n",
    "    return list\n",
    "    \n",
    "square_list_comp()\n",
    "\n"
   ]
  },
  {
   "cell_type": "code",
   "execution_count": 22,
   "id": "1114aa7a-eb98-46a0-8da4-338a69b300ea",
   "metadata": {},
   "outputs": [
    {
     "data": {
      "text/plain": [
       "[2, 4, 6, 8, 10, 12, 14, 16, 18, 20]"
      ]
     },
     "execution_count": 22,
     "metadata": {},
     "output_type": "execute_result"
    }
   ],
   "source": [
    "#Program 7 List Comprehension With Condition\n",
    "\n",
    "def list_even():\n",
    "    list = [x for x in range(1,21) if x % 2 == 0]\n",
    "    return list\n",
    "\n",
    "list_even()"
   ]
  },
  {
   "cell_type": "code",
   "execution_count": 38,
   "id": "ba461c5b-11de-4dc3-90d0-8cd3b108f80b",
   "metadata": {},
   "outputs": [
    {
     "name": "stdout",
     "output_type": "stream",
     "text": [
      "Directory 'test_folder' created\n",
      "Paused for 3 seconds\n",
      "Directory 'test_folder' deleted\n"
     ]
    }
   ],
   "source": [
    "#Program 8 Using os and Time modules\n",
    "import os\n",
    "import time\n",
    "\n",
    "def file_operation():\n",
    "\n",
    "    #create folder\n",
    "    os.makedirs(\"Test_Folder\")\n",
    "    print(\"Directory 'test_folder' created\")\n",
    "\n",
    "    #paused for 3 seconds \n",
    "    print(\"Paused for 3 seconds\")\n",
    "    time.sleep(3)\n",
    "    \n",
    "    #folder is delete from system\n",
    "    os.rmdir(\"test_folder\")\n",
    "    print(\"Directory 'test_folder' deleted\")\n",
    "\n",
    "file_operation()\n"
   ]
  },
  {
   "cell_type": "code",
   "execution_count": 46,
   "id": "07be215c-047e-4600-84d5-6ef97033328a",
   "metadata": {},
   "outputs": [
    {
     "name": "stdout",
     "output_type": "stream",
     "text": [
      "Paused Execution......\n",
      "Program End\n"
     ]
    }
   ],
   "source": [
    "#Program 9 Importing Specific Function\n",
    "from time import sleep as pause\n",
    "\n",
    "def pause(times):\n",
    "\n",
    "    #first message \n",
    "    print(\"Paused Execution......\")\n",
    "\n",
    "    #paused execution of program \n",
    "    time.sleep(times)\n",
    "\n",
    "    #final message\n",
    "    print(\"Program End\")\n",
    "    \n",
    "#function call\n",
    "pause(10)"
   ]
  },
  {
   "cell_type": "code",
   "execution_count": 2,
   "id": "6e4c63e5-8bfb-4b1a-adf5-7dd1a11fc93c",
   "metadata": {},
   "outputs": [
    {
     "name": "stdout",
     "output_type": "stream",
     "text": [
      "[1, 2, 3, 4, 5, 6]\n",
      "[1, 2, 3, 4, 5]\n"
     ]
    }
   ],
   "source": [
    "#program 10 **Recursive Function with *args and Kwargs (flattening a list)\n",
    "def flatten_list(nested_list, *args, **kwargs):\n",
    "    flat_list = []\n",
    "    \n",
    "    for item in nested_list:\n",
    "        if isinstance(item, list):\n",
    "            flat_list.extend(flatten_list(item, *args, **kwargs))\n",
    "        else:\n",
    "            flat_list.append(item)\n",
    "    \n",
    "    # If any additional behavior is passed in kwargs (e.g., transformations or filters), apply here\n",
    "    if 'transform' in kwargs:\n",
    "        flat_list = [kwargs['transform'](x) for x in flat_list]\n",
    "    \n",
    "    return flat_list\n",
    "\n",
    "# Example usage\n",
    "print(flatten_list([1, [2, 3], [[4, 5], 6]])) \n",
    "print(flatten_list([[1, 2], [3, [4, [5]]]]))  \n"
   ]
  },
  {
   "cell_type": "code",
   "execution_count": null,
   "id": "fa5e8744-1eac-4b04-9eca-dbf082d9cc0d",
   "metadata": {},
   "outputs": [],
   "source": []
  }
 ],
 "metadata": {
  "kernelspec": {
   "display_name": "Python 3 (ipykernel)",
   "language": "python",
   "name": "python3"
  },
  "language_info": {
   "codemirror_mode": {
    "name": "ipython",
    "version": 3
   },
   "file_extension": ".py",
   "mimetype": "text/x-python",
   "name": "python",
   "nbconvert_exporter": "python",
   "pygments_lexer": "ipython3",
   "version": "3.12.4"
  }
 },
 "nbformat": 4,
 "nbformat_minor": 5
}
