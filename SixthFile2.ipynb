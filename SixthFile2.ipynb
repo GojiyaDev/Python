{
 "cells": [
  {
   "cell_type": "code",
   "execution_count": 73,
   "id": "c4f577a6-325e-4483-a7be-f0b5d64fac14",
   "metadata": {},
   "outputs": [],
   "source": [
    "import mymodule\n"
   ]
  },
  {
   "cell_type": "code",
   "execution_count": 71,
   "id": "22f8823d-b789-4101-ab44-afeb8c1ec39e",
   "metadata": {},
   "outputs": [
    {
     "data": {
      "text/plain": [
       "3.14"
      ]
     },
     "execution_count": 71,
     "metadata": {},
     "output_type": "execute_result"
    }
   ],
   "source": [
    "mymodule.PI\n"
   ]
  },
  {
   "cell_type": "code",
   "execution_count": 68,
   "id": "de9fe6b0-d466-4c46-8075-833a53406315",
   "metadata": {},
   "outputs": [
    {
     "data": {
      "text/plain": [
       "60"
      ]
     },
     "execution_count": 68,
     "metadata": {},
     "output_type": "execute_result"
    }
   ],
   "source": [
    "mymodule.myadd(10,50)\n"
   ]
  },
  {
   "cell_type": "code",
   "execution_count": 63,
   "id": "2c3aeaec-97e0-4c03-b31c-e37ad2e78810",
   "metadata": {},
   "outputs": [
    {
     "data": {
      "text/plain": [
       "3.14"
      ]
     },
     "execution_count": 63,
     "metadata": {},
     "output_type": "execute_result"
    }
   ],
   "source": [
    "import mymodule as m1\n",
    "m1.PI"
   ]
  },
  {
   "cell_type": "code",
   "execution_count": 65,
   "id": "b04a9752-bff7-423d-81bc-cffe16e66101",
   "metadata": {},
   "outputs": [
    {
     "name": "stdout",
     "output_type": "stream",
     "text": [
      "3.14\n"
     ]
    }
   ],
   "source": [
    "from  mymodule import PI as pi1\n",
    "print(pi1)\n"
   ]
  },
  {
   "cell_type": "code",
   "execution_count": 76,
   "id": "488c58e0-c126-47fb-8df5-3e887a44a696",
   "metadata": {},
   "outputs": [
    {
     "name": "stdout",
     "output_type": "stream",
     "text": [
      "3.14\n"
     ]
    }
   ],
   "source": [
    "import mymodule\n",
    "print(mymodule.PI)\n"
   ]
  },
  {
   "cell_type": "code",
   "execution_count": 84,
   "id": "fc3119a7-db20-4120-a489-b019aeecb0d5",
   "metadata": {},
   "outputs": [
    {
     "name": "stdout",
     "output_type": "stream",
     "text": [
      "This is mymodule\n"
     ]
    },
    {
     "data": {
      "text/plain": [
       "<module 'mymodule' from 'C:\\\\Users\\\\devgo\\\\mymodule.py'>"
      ]
     },
     "execution_count": 84,
     "metadata": {},
     "output_type": "execute_result"
    }
   ],
   "source": [
    "import importlib\n",
    "import mymodule\n",
    "importlib.reload(mymodule)\n"
   ]
  },
  {
   "cell_type": "code",
   "execution_count": 86,
   "id": "f1aad5e1-9f19-4d02-92f9-719138b2580d",
   "metadata": {},
   "outputs": [
    {
     "name": "stdout",
     "output_type": "stream",
     "text": [
      "3.14159\n"
     ]
    }
   ],
   "source": [
    "import mymodule  # This will print \"This is mymodule\"\n",
    "print(mymodule.PI)  # This will print the value of PI\n"
   ]
  },
  {
   "cell_type": "code",
   "execution_count": 12,
   "id": "62f3803c-5309-4deb-a074-bd2bd511c72f",
   "metadata": {},
   "outputs": [
    {
     "name": "stdout",
     "output_type": "stream",
     "text": [
      "Current time: 15:33:19.566652\n",
      "Pausing for 2 seconds...\n",
      "Current time: 15:33:21.568770\n"
     ]
    }
   ],
   "source": [
    "#WRITE A PROGRAM THAT DISPLAYS CURRENT TIME AND PUASE FOR 2 SECOND AND DISPLAY CURRENT TIME AGAIN\n",
    "import datetime # Import the datw time module\n",
    "import time  # Import the time module\n",
    "\n",
    "# Display the current time\n",
    "print(\"Current time:\", datetime.datetime.now().time())\n",
    "\n",
    "# Pause for 2 seconds\n",
    "print(\"Pausing for 2 seconds...\")\n",
    "time.sleep(2)\n",
    "\n",
    "# Display the current time again\n",
    "print(\"Current time:\", datetime.datetime.now().time())\n"
   ]
  },
  {
   "cell_type": "code",
   "execution_count": 14,
   "id": "b23a3ffb-6a98-4dd9-a969-e624db757f3d",
   "metadata": {},
   "outputs": [],
   "source": [
    "#WRITE A PROGRAM THAT TAKES DRECTARY LOCATION FROM USER AND RETURN LIST OF ALL FILE IN THAT LOCATION\n"
   ]
  },
  {
   "cell_type": "code",
   "execution_count": 6,
   "id": "53241821-cf7d-4d6e-bc4e-21b4654ab204",
   "metadata": {},
   "outputs": [
    {
     "name": "stdin",
     "output_type": "stream",
     "text": [
      "Enter the directory location:  C:\\Users\\devgo\\Desktop\\UPES\\MCA Semester 1\\Java\\Chapter 1\n"
     ]
    },
    {
     "name": "stdout",
     "output_type": "stream",
     "text": [
      "Files in the directory:\n",
      "Classes in Java.pdf\n",
      "Constructor and this.pdf\n",
      "Control Statements.pdf\n",
      "Interview Questions and Solutions.pdf\n",
      "Java Introduction.pdf\n",
      "JAVA Programming Syllabus.pdf\n",
      "JVM.pdf\n",
      "Lexical Elements and Arrays.pdf\n",
      "Operators and Expressions.pdf\n"
     ]
    }
   ],
   "source": [
    "import os\n",
    "\n",
    " directory\n",
    "def list_files_in_directory(directory):\n",
    "\n",
    "        # Get a list of all items in the directory\n",
    "        items = os.listdir(directory)\n",
    "        \n",
    "        # Filter and return only files\n",
    "        files = [item for item in items if os.path.isfile(os.path.join(directory, item))]\n",
    "        return files\n",
    "\n",
    "# Take directory input from the user\n",
    "user_directory = input(\"Enter the directory location: \")\n",
    "\n",
    "# Get list of files in the directory\n",
    "files = list_files_in_directory(user_directory)\n",
    "\n",
    "# Print the list of files\n",
    "if isinstance(files, list):\n",
    "    print(\"Files in the directory:\")\n",
    "    for file in files:\n",
    "        print(file)\n",
    "else:\n",
    "    print(files)\n"
   ]
  },
  {
   "cell_type": "code",
   "execution_count": null,
   "id": "8cdf1299-0a9a-4971-9848-0fddf7b39365",
   "metadata": {},
   "outputs": [],
   "source": []
  }
 ],
 "metadata": {
  "kernelspec": {
   "display_name": "Python 3 (ipykernel)",
   "language": "python",
   "name": "python3"
  },
  "language_info": {
   "codemirror_mode": {
    "name": "ipython",
    "version": 3
   },
   "file_extension": ".py",
   "mimetype": "text/x-python",
   "name": "python",
   "nbconvert_exporter": "python",
   "pygments_lexer": "ipython3",
   "version": "3.12.4"
  }
 },
 "nbformat": 4,
 "nbformat_minor": 5
}
