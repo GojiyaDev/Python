{
 "cells": [
  {
   "cell_type": "code",
   "execution_count": null,
   "id": "e18104d1-acf2-477b-b211-ef89c90a5fca",
   "metadata": {},
   "outputs": [],
   "source": [
    "#Part 2 Basic Python Syntax"
   ]
  },
  {
   "cell_type": "code",
   "execution_count": 11,
   "id": "86d34398-e677-49f5-9a67-a2c87b7f20b4",
   "metadata": {},
   "outputs": [
    {
     "name": "stdin",
     "output_type": "stream",
     "text": [
      "Entre Your First Name:  dev\n",
      "Enter Your Last Name : gojiya\n"
     ]
    },
    {
     "name": "stdout",
     "output_type": "stream",
     "text": [
      "Full Name : gojiya dev\n"
     ]
    }
   ],
   "source": [
    "# 1 String Operation\n",
    "#Write a python program that takes a user's first and last name as input and print them in reverse order with a space between them\n",
    "\n",
    "#taking User Input\n",
    "first_name = input(\"Entre Your First Name: \")\n",
    "last_name = input(\"Enter Your Last Name :\")\n",
    "#printing two string together to get required output\n",
    "full_name = print(f\"Full Name : {last_name} {first_name}\")\n"
   ]
  },
  {
   "cell_type": "code",
   "execution_count": 19,
   "id": "6fe9417c-f677-4a9a-9a9e-465f2dd2ec65",
   "metadata": {},
   "outputs": [
    {
     "name": "stdin",
     "output_type": "stream",
     "text": [
      "Enter Number :  45\n"
     ]
    },
    {
     "name": "stdout",
     "output_type": "stream",
     "text": [
      "Integer represent of Number 45\n",
      "Float represent of Number 45.0\n",
      "Complex represent of Number (45+0j)\n"
     ]
    }
   ],
   "source": [
    "# 2 Numeric Data Types and conversion Function\n",
    "# write a python program that takes an input number from the user, converts it to different numeric data types(integer, flaot, and complex), \n",
    "# and display the convert values\n",
    "\n",
    "#taking User Input Number\n",
    "number = input(\"Enter Number : \")\n",
    "\n",
    "#Integer is data type that represents whole numbers without a fractional part.\n",
    "int_Number = print(f\"Integer represent of Number {int(number)}\")\n",
    "\n",
    "#float is data type that represents a real number with a decimal point\n",
    "float_Number = print(f\"Float represent of Number {float(number)}\")\n",
    "\n",
    "#Complex is a data type that represents numbers in the form 'a + bj', where 'a' is the real part and 'b' is the imaginary part.\n",
    "complex_Number = print(f\"Complex represent of Number {complex(number)}\")\n"
   ]
  },
  {
   "cell_type": "code",
   "execution_count": 20,
   "id": "a5399dba-34da-4ef9-8559-f26c6791d43e",
   "metadata": {},
   "outputs": [
    {
     "name": "stdin",
     "output_type": "stream",
     "text": [
      "Enter A Length :  45\n",
      "Enter A Breadth :  45\n"
     ]
    },
    {
     "name": "stdout",
     "output_type": "stream",
     "text": [
      "Area of Rectangle :2025.0\n",
      "Area of Rectangle: 2025.0\n"
     ]
    }
   ],
   "source": [
    "# 3 Simple Input and Output \n",
    "#Create a python script that calculates the area of a rectangle.\n",
    "\n",
    "#taking user input\n",
    "length = float(input(\"Enter A Length : \"))\n",
    "breadth = float(input(\"Enter A Breadth : \"))\n",
    "\n",
    "#Calculating  Area of rectangle\n",
    "Rectangle_Area = length * breadth\n",
    "\n",
    "#print Output\n",
    "print(f\"Area of Rectangle :{Rectangle_Area}\")\n",
    "\n",
    "# Convert the area to a string\n",
    "converttostr = str(Rectangle_Area)\n",
    "\n",
    "# Using the format function\n",
    "fstr = \"Area of Rectangle: {}\"\n",
    "\n",
    "# Corrected print statement\n",
    "print(fstr.format(converttostr))"
   ]
  },
  {
   "cell_type": "code",
   "execution_count": 28,
   "id": "4a85c5c4-b47f-426b-8819-cc85cfb7a6d4",
   "metadata": {},
   "outputs": [
    {
     "name": "stdin",
     "output_type": "stream",
     "text": [
      "Enter First Number :  100\n",
      "Enter Second Number :  100\n",
      "Enter Third Number :  100\n"
     ]
    },
    {
     "name": "stdout",
     "output_type": "stream",
     "text": [
      "The average of the three numbers is: 100.00\n"
     ]
    }
   ],
   "source": [
    "# 4 The % Method and print function\n",
    "#write a python script that takes three numbers as input and prints their average using the % method for string formatting\n",
    "\n",
    "#Taking A first Value \n",
    "first_num = float(input(\"Enter First Number : \"))\n",
    "#Taking A Second Value\n",
    "second_num = float(input(\"Enter Second Number : \"))\n",
    "#Taking A Third Value\n",
    "third_num = float(input(\"Enter Third Number : \"))\n",
    "\n",
    "avg = (first_num + second_num + third_num) / 3\n",
    "\n",
    "# Print the average using the % method for string formatting\n",
    "print(\"The average of the three numbers is: %.2f\" % avg)"
   ]
  },
  {
   "cell_type": "code",
   "execution_count": null,
   "id": "0b2b1e33-14f8-4d30-b825-59f41aa2892f",
   "metadata": {},
   "outputs": [],
   "source": [
    "#part 3 Language Components"
   ]
  },
  {
   "cell_type": "code",
   "execution_count": 2,
   "id": "435f54e9-917c-46e4-97fa-0ea0dfa40325",
   "metadata": {},
   "outputs": [
    {
     "name": "stdin",
     "output_type": "stream",
     "text": [
      "Enter a number (or type 'exit' to quit):  45\n"
     ]
    },
    {
     "name": "stdout",
     "output_type": "stream",
     "text": [
      "The Number is Positive\n"
     ]
    },
    {
     "name": "stdin",
     "output_type": "stream",
     "text": [
      "Enter a number (or type 'exit' to quit):  78\n"
     ]
    },
    {
     "name": "stdout",
     "output_type": "stream",
     "text": [
      "The Number is Positive\n"
     ]
    },
    {
     "name": "stdin",
     "output_type": "stream",
     "text": [
      "Enter a number (or type 'exit' to quit):  -784\n"
     ]
    },
    {
     "name": "stdout",
     "output_type": "stream",
     "text": [
      "The Number is Negative\n"
     ]
    },
    {
     "name": "stdin",
     "output_type": "stream",
     "text": [
      "Enter a number (or type 'exit' to quit):  0\n"
     ]
    },
    {
     "name": "stdout",
     "output_type": "stream",
     "text": [
      "The Number is Zero\n"
     ]
    },
    {
     "name": "stdin",
     "output_type": "stream",
     "text": [
      "Enter a number (or type 'exit' to quit):  exit\n"
     ]
    }
   ],
   "source": [
    "# 1 control Flow (If Statements and loop)\n",
    "#write a python program that asks the user for a number and determine whether it is positive, negative, or zero\n",
    "\n",
    "#while run till break statement not execute\n",
    "while True:\n",
    "    user_input = input(\"Enter a number (or type 'exit' to quit): \")\n",
    "\n",
    "    if user_input.lower() == 'exit':\n",
    "        break\n",
    "    #Chceking if user enter invalid input\n",
    "    try:\n",
    "        #convert to float\n",
    "        number = float(user_input)\n",
    "    \n",
    "        if number > 0:\n",
    "            print(\"The Number is Positive\")\n",
    "        elif number < 0:\n",
    "            print(\"The Number is Negative\")\n",
    "        else:\n",
    "            print(\"The Number is Zero\")\n",
    "    except ValueError:\n",
    "        print(\"Invalid input. please enter a valid number or 'exit' to quit\")\n"
   ]
  },
  {
   "cell_type": "code",
   "execution_count": null,
   "id": "3a4585de-3999-4b12-b29b-ea9c705e19ce",
   "metadata": {},
   "outputs": [],
   "source": [
    "#2 Relational and logical Operator\n",
    "# Create a python script that takes two numbers as input and print whether both number are even, odd, or one of each using relation and logical operators"
   ]
  },
  {
   "cell_type": "code",
   "execution_count": 4,
   "id": "76296624-4671-4f14-9543-42b07daecff3",
   "metadata": {},
   "outputs": [
    {
     "name": "stdin",
     "output_type": "stream",
     "text": [
      "Enter the first number :  45\n",
      "Enter the second number :  78\n"
     ]
    },
    {
     "name": "stdout",
     "output_type": "stream",
     "text": [
      "One number is Even and the other is old\n"
     ]
    }
   ],
   "source": [
    "#Taking user input\n",
    "num1 = int(input(\"Enter the first number : \"))\n",
    "num2 = int(input(\"Enter the second number : \"))\n",
    "\n",
    "#check the two numbre where both are even, old or one even and 1 old\n",
    "#check for both are Even number\n",
    "if num1 % 2 == 0 and num2 % 2 == 0:\n",
    "    print(\"Both Number are Even\")\n",
    "#check for both are Old number\n",
    "elif num1 % 2 != 0 and num2 % 2 != 0:\n",
    "    print(\"Both Number are Old\")\n",
    "#check for one is even and other is old\n",
    "else:\n",
    "    print(\"One number is Even and the other is Old\")\n",
    "    "
   ]
  },
  {
   "cell_type": "code",
   "execution_count": 6,
   "id": "518611ba-e71b-49d9-bbba-06623f04774b",
   "metadata": {},
   "outputs": [],
   "source": [
    "# 3 For Loop and Bitwise Operators\n",
    "# Write a python program that takes an integer input and prints its binary, octal, and hexadecimal equivalents using a for loop and bitwise operators"
   ]
  },
  {
   "cell_type": "code",
   "execution_count": 8,
   "id": "23c4e70e-d1b3-433d-9be4-58f147f3a7b1",
   "metadata": {},
   "outputs": [
    {
     "name": "stdin",
     "output_type": "stream",
     "text": [
      "Enter an integer:  10\n"
     ]
    },
    {
     "name": "stdout",
     "output_type": "stream",
     "text": [
      "Binary: 1010\n",
      "Octal: 12\n",
      "Hexadecimal: a\n"
     ]
    }
   ],
   "source": [
    "def print_equivalents(n):\n",
    "      \n",
    "    bases = [2, 8, 16]  # List of bases\n",
    "    base_names = ['Binary', 'Octal', 'Hexadecimal']  # names for each base.\n",
    "    \n",
    "    # Loop over each base to convert the number\n",
    "    for i in range(3):\n",
    "        base = bases[i]  #(2, 8, 16)\n",
    "        name = base_names[i]  # (Binary, Octal, or Hexadecimal).\n",
    "        \n",
    "        result = \"\"  # String to store the converted number in the current base.\n",
    "        num = n  # Copy of the original number for manipulation.\n",
    "        \n",
    "        if num == 0:\n",
    "            result = \"0\"  # If the number is 0\n",
    "        else:\n",
    "            while num > 0:\n",
    "                remainder = num % base  # Find the remainder when num is divided by the base\n",
    "                \n",
    "                # Convert remainder to appropriate character for hexadecimal.\n",
    "                if base == 16 and remainder >= 10:\n",
    "                    result = chr(remainder + 87) + result  # Convert to 'a' to 'f' for 10 to 15.\n",
    "                else:\n",
    "                    result = str(remainder) + result  # Convert to string and prepend to result.\n",
    "                \n",
    "                num //= base  # Update num by dividing it by the base (integer division).\n",
    "        \n",
    "        # Print the base name and the corresponding result.\n",
    "        print(f\"{name}: {result}\")\n",
    "\n",
    "# Main program execution starts here.\n",
    "# The user is prompted to input an integer.\n",
    "n = int(input(\"Enter an integer: \"))\n",
    "\n",
    "# The function then prints the binary, octal, and hexadecimal equivalents of the entered integer.\n",
    "print_equivalents(n)\n"
   ]
  },
  {
   "cell_type": "code",
   "execution_count": null,
   "id": "dcc91550-caa5-4f0d-a7ef-ff98edc3eb65",
   "metadata": {},
   "outputs": [],
   "source": []
  }
 ],
 "metadata": {
  "kernelspec": {
   "display_name": "Python 3 (ipykernel)",
   "language": "python",
   "name": "python3"
  },
  "language_info": {
   "codemirror_mode": {
    "name": "ipython",
    "version": 3
   },
   "file_extension": ".py",
   "mimetype": "text/x-python",
   "name": "python",
   "nbconvert_exporter": "python",
   "pygments_lexer": "ipython3",
   "version": "3.12.4"
  }
 },
 "nbformat": 4,
 "nbformat_minor": 5
}
