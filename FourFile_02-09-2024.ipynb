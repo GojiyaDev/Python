{
 "cells": [
  {
   "cell_type": "code",
   "execution_count": null,
   "id": "d0df87fc-b3ec-4b39-963d-704ce651663b",
   "metadata": {},
   "outputs": [],
   "source": [
    "#snake case"
   ]
  },
  {
   "cell_type": "code",
   "execution_count": null,
   "id": "aa1d66af-107d-46f0-841d-29b3a3c1a7e7",
   "metadata": {},
   "outputs": [],
   "source": [
    "#camle Case"
   ]
  },
  {
   "cell_type": "code",
   "execution_count": null,
   "id": "71e7b471-7a99-484f-9c8e-a3a9213a7335",
   "metadata": {},
   "outputs": [],
   "source": [
    "#pasecal case (Capitalized camel case)"
   ]
  },
  {
   "cell_type": "code",
   "execution_count": null,
   "id": "dfcde8a8-8800-42ca-bb5e-052bbecc547d",
   "metadata": {},
   "outputs": [],
   "source": [
    "#uppercase with undercase (screaming snake case)"
   ]
  },
  {
   "cell_type": "code",
   "execution_count": null,
   "id": "2c0ab082-cbbd-4258-9549-509077924b4b",
   "metadata": {},
   "outputs": [],
   "source": [
    "#single underscore prefix"
   ]
  },
  {
   "cell_type": "code",
   "execution_count": null,
   "id": "3875eba9-5eec-442a-8504-38c3c18733db",
   "metadata": {},
   "outputs": [],
   "source": [
    "#double underscore "
   ]
  },
  {
   "cell_type": "code",
   "execution_count": null,
   "id": "01ba9c03-4605-41ab-af2a-47ef5fce1496",
   "metadata": {},
   "outputs": [],
   "source": [
    "# Double Underscores Before and After Names"
   ]
  },
  {
   "cell_type": "code",
   "execution_count": null,
   "id": "a88de432-00c4-4b8d-a23e-1fd19b94b2b0",
   "metadata": {},
   "outputs": [],
   "source": [
    "#collection in Python\n",
    "# 1 List\n",
    "# list basic operations"
   ]
  },
  {
   "cell_type": "code",
   "execution_count": 122,
   "id": "76505f74-984f-4a10-813f-0917c82788fc",
   "metadata": {},
   "outputs": [
    {
     "name": "stdout",
     "output_type": "stream",
     "text": [
      "ID of List 2721908712000\n",
      "Data type of List <class 'list'>\n",
      "1\n",
      "[1, 2, 3, 4, 5, 100]\n",
      "[1, 2, 3, 4, 100]\n"
     ]
    }
   ],
   "source": [
    "# Creating a list of Number\n",
    "\n",
    "num = [1,2,3,4,5] \n",
    "print(\"ID of List\",id(num))\n",
    "print(\"Data type of List\",type(num))\n",
    "\n",
    "print(num[0]) \n",
    "\n",
    "num.append(100) #adding value in end of list\n",
    "print(num)  \n",
    "\n",
    "num.remove(5) #remove element \n",
    "print(num)  \n"
   ]
  },
  {
   "cell_type": "code",
   "execution_count": 12,
   "id": "bd1fd81d-b938-4549-bdb8-ab2e55b0652f",
   "metadata": {},
   "outputs": [
    {
     "name": "stdout",
     "output_type": "stream",
     "text": [
      "[1, 300, 3, 4, 100]\n"
     ]
    }
   ],
   "source": [
    "num[1] = 300 #update value of list\n",
    "print(num) "
   ]
  },
  {
   "cell_type": "code",
   "execution_count": 20,
   "id": "237dad78-c703-4e8e-91d7-4aa31e368d98",
   "metadata": {},
   "outputs": [
    {
     "name": "stdout",
     "output_type": "stream",
     "text": [
      "Help on list object:\n",
      "\n",
      "class list(object)\n",
      " |  list(iterable=(), /)\n",
      " |\n",
      " |  Built-in mutable sequence.\n",
      " |\n",
      " |  If no argument is given, the constructor creates a new empty list.\n",
      " |  The argument must be an iterable if specified.\n",
      " |\n",
      " |  Methods defined here:\n",
      " |\n",
      " |  __add__(self, value, /)\n",
      " |      Return self+value.\n",
      " |\n",
      " |  __contains__(self, key, /)\n",
      " |      Return bool(key in self).\n",
      " |\n",
      " |  __delitem__(self, key, /)\n",
      " |      Delete self[key].\n",
      " |\n",
      " |  __eq__(self, value, /)\n",
      " |      Return self==value.\n",
      " |\n",
      " |  __ge__(self, value, /)\n",
      " |      Return self>=value.\n",
      " |\n",
      " |  __getattribute__(self, name, /)\n",
      " |      Return getattr(self, name).\n",
      " |\n",
      " |  __getitem__(self, index, /)\n",
      " |      Return self[index].\n",
      " |\n",
      " |  __gt__(self, value, /)\n",
      " |      Return self>value.\n",
      " |\n",
      " |  __iadd__(self, value, /)\n",
      " |      Implement self+=value.\n",
      " |\n",
      " |  __imul__(self, value, /)\n",
      " |      Implement self*=value.\n",
      " |\n",
      " |  __init__(self, /, *args, **kwargs)\n",
      " |      Initialize self.  See help(type(self)) for accurate signature.\n",
      " |\n",
      " |  __iter__(self, /)\n",
      " |      Implement iter(self).\n",
      " |\n",
      " |  __le__(self, value, /)\n",
      " |      Return self<=value.\n",
      " |\n",
      " |  __len__(self, /)\n",
      " |      Return len(self).\n",
      " |\n",
      " |  __lt__(self, value, /)\n",
      " |      Return self<value.\n",
      " |\n",
      " |  __mul__(self, value, /)\n",
      " |      Return self*value.\n",
      " |\n",
      " |  __ne__(self, value, /)\n",
      " |      Return self!=value.\n",
      " |\n",
      " |  __repr__(self, /)\n",
      " |      Return repr(self).\n",
      " |\n",
      " |  __reversed__(self, /)\n",
      " |      Return a reverse iterator over the list.\n",
      " |\n",
      " |  __rmul__(self, value, /)\n",
      " |      Return value*self.\n",
      " |\n",
      " |  __setitem__(self, key, value, /)\n",
      " |      Set self[key] to value.\n",
      " |\n",
      " |  __sizeof__(self, /)\n",
      " |      Return the size of the list in memory, in bytes.\n",
      " |\n",
      " |  append(self, object, /)\n",
      " |      Append object to the end of the list.\n",
      " |\n",
      " |  clear(self, /)\n",
      " |      Remove all items from list.\n",
      " |\n",
      " |  copy(self, /)\n",
      " |      Return a shallow copy of the list.\n",
      " |\n",
      " |  count(self, value, /)\n",
      " |      Return number of occurrences of value.\n",
      " |\n",
      " |  extend(self, iterable, /)\n",
      " |      Extend list by appending elements from the iterable.\n",
      " |\n",
      " |  index(self, value, start=0, stop=9223372036854775807, /)\n",
      " |      Return first index of value.\n",
      " |\n",
      " |      Raises ValueError if the value is not present.\n",
      " |\n",
      " |  insert(self, index, object, /)\n",
      " |      Insert object before index.\n",
      " |\n",
      " |  pop(self, index=-1, /)\n",
      " |      Remove and return item at index (default last).\n",
      " |\n",
      " |      Raises IndexError if list is empty or index is out of range.\n",
      " |\n",
      " |  remove(self, value, /)\n",
      " |      Remove first occurrence of value.\n",
      " |\n",
      " |      Raises ValueError if the value is not present.\n",
      " |\n",
      " |  reverse(self, /)\n",
      " |      Reverse *IN PLACE*.\n",
      " |\n",
      " |  sort(self, /, *, key=None, reverse=False)\n",
      " |      Sort the list in ascending order and return None.\n",
      " |\n",
      " |      The sort is in-place (i.e. the list itself is modified) and stable (i.e. the\n",
      " |      order of two equal elements is maintained).\n",
      " |\n",
      " |      If a key function is given, apply it once to each list item and sort them,\n",
      " |      ascending or descending, according to their function values.\n",
      " |\n",
      " |      The reverse flag can be set to sort in descending order.\n",
      " |\n",
      " |  ----------------------------------------------------------------------\n",
      " |  Class methods defined here:\n",
      " |\n",
      " |  __class_getitem__(...)\n",
      " |      See PEP 585\n",
      " |\n",
      " |  ----------------------------------------------------------------------\n",
      " |  Static methods defined here:\n",
      " |\n",
      " |  __new__(*args, **kwargs)\n",
      " |      Create and return a new object.  See help(type) for accurate signature.\n",
      " |\n",
      " |  ----------------------------------------------------------------------\n",
      " |  Data and other attributes defined here:\n",
      " |\n",
      " |  __hash__ = None\n",
      "\n"
     ]
    }
   ],
   "source": [
    "help(num) #full description of list "
   ]
  },
  {
   "cell_type": "code",
   "execution_count": 32,
   "id": "23e30a24-6707-4b05-98fb-7c2fe8acb7cb",
   "metadata": {},
   "outputs": [
    {
     "name": "stdout",
     "output_type": "stream",
     "text": [
      "2721908756160\n"
     ]
    },
    {
     "data": {
      "text/plain": [
       "1"
      ]
     },
     "execution_count": 32,
     "metadata": {},
     "output_type": "execute_result"
    }
   ],
   "source": [
    "#Tuple \n",
    "tuple1 = (1,2,3)\n",
    "print(id(tuple1))\n",
    "tuple1[0]# accessing element of Tuple "
   ]
  },
  {
   "cell_type": "code",
   "execution_count": 38,
   "id": "a246f55d-04f8-4690-b82c-4c39924b3802",
   "metadata": {},
   "outputs": [
    {
     "data": {
      "text/plain": [
       "'HEllo world'"
      ]
     },
     "execution_count": 38,
     "metadata": {},
     "output_type": "execute_result"
    }
   ],
   "source": [
    "string1 = \"HEllo world\"\n",
    "lenstr = len(string1) #length of String \n",
    "string1[0:lenstr] #accessing String \n"
   ]
  },
  {
   "cell_type": "code",
   "execution_count": 40,
   "id": "74793164-4264-4276-bb2e-78123e7d9839",
   "metadata": {},
   "outputs": [
    {
     "name": "stdout",
     "output_type": "stream",
     "text": [
      "H\n",
      "E\n",
      "l\n",
      "l\n",
      "o\n",
      " \n",
      "w\n",
      "o\n",
      "r\n",
      "l\n",
      "d\n"
     ]
    }
   ],
   "source": [
    "for i in range(0, len(string1)):\n",
    "    print(string1[i])"
   ]
  },
  {
   "cell_type": "code",
   "execution_count": 50,
   "id": "ed782e48-6730-4b5a-b925-38762e2873c2",
   "metadata": {},
   "outputs": [
    {
     "name": "stdout",
     "output_type": "stream",
     "text": [
      "Help on set object:\n",
      "\n",
      "class set(object)\n",
      " |  set() -> new empty set object\n",
      " |  set(iterable) -> new set object\n",
      " |\n",
      " |  Build an unordered collection of unique elements.\n",
      " |\n",
      " |  Methods defined here:\n",
      " |\n",
      " |  __and__(self, value, /)\n",
      " |      Return self&value.\n",
      " |\n",
      " |  __contains__(...)\n",
      " |      x.__contains__(y) <==> y in x.\n",
      " |\n",
      " |  __eq__(self, value, /)\n",
      " |      Return self==value.\n",
      " |\n",
      " |  __ge__(self, value, /)\n",
      " |      Return self>=value.\n",
      " |\n",
      " |  __getattribute__(self, name, /)\n",
      " |      Return getattr(self, name).\n",
      " |\n",
      " |  __gt__(self, value, /)\n",
      " |      Return self>value.\n",
      " |\n",
      " |  __iand__(self, value, /)\n",
      " |      Return self&=value.\n",
      " |\n",
      " |  __init__(self, /, *args, **kwargs)\n",
      " |      Initialize self.  See help(type(self)) for accurate signature.\n",
      " |\n",
      " |  __ior__(self, value, /)\n",
      " |      Return self|=value.\n",
      " |\n",
      " |  __isub__(self, value, /)\n",
      " |      Return self-=value.\n",
      " |\n",
      " |  __iter__(self, /)\n",
      " |      Implement iter(self).\n",
      " |\n",
      " |  __ixor__(self, value, /)\n",
      " |      Return self^=value.\n",
      " |\n",
      " |  __le__(self, value, /)\n",
      " |      Return self<=value.\n",
      " |\n",
      " |  __len__(self, /)\n",
      " |      Return len(self).\n",
      " |\n",
      " |  __lt__(self, value, /)\n",
      " |      Return self<value.\n",
      " |\n",
      " |  __ne__(self, value, /)\n",
      " |      Return self!=value.\n",
      " |\n",
      " |  __or__(self, value, /)\n",
      " |      Return self|value.\n",
      " |\n",
      " |  __rand__(self, value, /)\n",
      " |      Return value&self.\n",
      " |\n",
      " |  __reduce__(...)\n",
      " |      Return state information for pickling.\n",
      " |\n",
      " |  __repr__(self, /)\n",
      " |      Return repr(self).\n",
      " |\n",
      " |  __ror__(self, value, /)\n",
      " |      Return value|self.\n",
      " |\n",
      " |  __rsub__(self, value, /)\n",
      " |      Return value-self.\n",
      " |\n",
      " |  __rxor__(self, value, /)\n",
      " |      Return value^self.\n",
      " |\n",
      " |  __sizeof__(...)\n",
      " |      S.__sizeof__() -> size of S in memory, in bytes\n",
      " |\n",
      " |  __sub__(self, value, /)\n",
      " |      Return self-value.\n",
      " |\n",
      " |  __xor__(self, value, /)\n",
      " |      Return self^value.\n",
      " |\n",
      " |  add(...)\n",
      " |      Add an element to a set.\n",
      " |\n",
      " |      This has no effect if the element is already present.\n",
      " |\n",
      " |  clear(...)\n",
      " |      Remove all elements from this set.\n",
      " |\n",
      " |  copy(...)\n",
      " |      Return a shallow copy of a set.\n",
      " |\n",
      " |  difference(...)\n",
      " |      Return the difference of two or more sets as a new set.\n",
      " |\n",
      " |      (i.e. all elements that are in this set but not the others.)\n",
      " |\n",
      " |  difference_update(...)\n",
      " |      Remove all elements of another set from this set.\n",
      " |\n",
      " |  discard(...)\n",
      " |      Remove an element from a set if it is a member.\n",
      " |\n",
      " |      Unlike set.remove(), the discard() method does not raise\n",
      " |      an exception when an element is missing from the set.\n",
      " |\n",
      " |  intersection(...)\n",
      " |      Return the intersection of two sets as a new set.\n",
      " |\n",
      " |      (i.e. all elements that are in both sets.)\n",
      " |\n",
      " |  intersection_update(...)\n",
      " |      Update a set with the intersection of itself and another.\n",
      " |\n",
      " |  isdisjoint(...)\n",
      " |      Return True if two sets have a null intersection.\n",
      " |\n",
      " |  issubset(self, other, /)\n",
      " |      Test whether every element in the set is in other.\n",
      " |\n",
      " |  issuperset(self, other, /)\n",
      " |      Test whether every element in other is in the set.\n",
      " |\n",
      " |  pop(...)\n",
      " |      Remove and return an arbitrary set element.\n",
      " |      Raises KeyError if the set is empty.\n",
      " |\n",
      " |  remove(...)\n",
      " |      Remove an element from a set; it must be a member.\n",
      " |\n",
      " |      If the element is not a member, raise a KeyError.\n",
      " |\n",
      " |  symmetric_difference(...)\n",
      " |      Return the symmetric difference of two sets as a new set.\n",
      " |\n",
      " |      (i.e. all elements that are in exactly one of the sets.)\n",
      " |\n",
      " |  symmetric_difference_update(...)\n",
      " |      Update a set with the symmetric difference of itself and another.\n",
      " |\n",
      " |  union(...)\n",
      " |      Return the union of sets as a new set.\n",
      " |\n",
      " |      (i.e. all elements that are in either set.)\n",
      " |\n",
      " |  update(...)\n",
      " |      Update a set with the union of itself and others.\n",
      " |\n",
      " |  ----------------------------------------------------------------------\n",
      " |  Class methods defined here:\n",
      " |\n",
      " |  __class_getitem__(...)\n",
      " |      See PEP 585\n",
      " |\n",
      " |  ----------------------------------------------------------------------\n",
      " |  Static methods defined here:\n",
      " |\n",
      " |  __new__(*args, **kwargs)\n",
      " |      Create and return a new object.  See help(type) for accurate signature.\n",
      " |\n",
      " |  ----------------------------------------------------------------------\n",
      " |  Data and other attributes defined here:\n",
      " |\n",
      " |  __hash__ = None\n",
      "\n",
      "{'e', 'a', 'o', 'i', 'u'}\n"
     ]
    }
   ],
   "source": [
    "#set\n",
    "vowels = {\"a\", \"e\", \"i\", \"o\", \"u\"}\n",
    "help(vowels)\n",
    "print(vowels)"
   ]
  },
  {
   "cell_type": "code",
   "execution_count": 62,
   "id": "f6652c54-2866-447f-adc8-c88be70148cc",
   "metadata": {},
   "outputs": [
    {
     "name": "stdout",
     "output_type": "stream",
     "text": [
      "{'name': 'dev', 'name1': 'parth'}\n"
     ]
    }
   ],
   "source": [
    "#Dictionary\n",
    "dict1 = {\n",
    "    \"name\" : \"dev\",\"name1\" : \"parth\"\n",
    "}\n",
    "print(dict1)"
   ]
  },
  {
   "cell_type": "code",
   "execution_count": 104,
   "id": "dddaa9c4-3202-4f0f-b648-34174023d684",
   "metadata": {},
   "outputs": [
    {
     "name": "stdout",
     "output_type": "stream",
     "text": [
      "Dev\n"
     ]
    }
   ],
   "source": [
    "person = {\n",
    "    \"name\": \"Dev\",\n",
    "    \"age\": \"21\",\n",
    "    \"city\": \"Rajkot\",\n",
    "\n",
    "    \"name2\": \"Parth\",\n",
    "    \"age2\": \"22\",\n",
    "    \"city2\": \"Jamnager\"\n",
    "}\n",
    "print(person[\"name\"])"
   ]
  },
  {
   "cell_type": "code",
   "execution_count": 106,
   "id": "77a9cff2-32da-436f-9561-cad9a7dbc17c",
   "metadata": {},
   "outputs": [
    {
     "name": "stdout",
     "output_type": "stream",
     "text": [
      " key is name val is Dev\n",
      " key is age val is 21\n",
      " key is city val is Rajkot\n",
      " key is name2 val is Parth\n",
      " key is age2 val is 22\n",
      " key is city2 val is Jamnager\n"
     ]
    }
   ],
   "source": [
    "for key, val in person.items():\n",
    "    print(f\" key is {key} val is {val}\")\n"
   ]
  },
  {
   "cell_type": "code",
   "execution_count": 108,
   "id": "92280f02-39c4-4975-a3f6-cdd4942a22d1",
   "metadata": {},
   "outputs": [
    {
     "name": "stdout",
     "output_type": "stream",
     "text": [
      "key is namevalue is Dev\n",
      "key is agevalue is 21\n",
      "key is cityvalue is Rajkot\n",
      "key is name2value is Parth\n",
      "key is age2value is 22\n",
      "key is city2value is Jamnager\n"
     ]
    }
   ],
   "source": [
    "#other way\n",
    "for key, val in person.items():\n",
    "    print(\"key is \" + key + \"value is \"+ val)\n"
   ]
  },
  {
   "cell_type": "code",
   "execution_count": 116,
   "id": "d5b6576a-2e5a-4ff0-b6d2-9c7402c3010a",
   "metadata": {},
   "outputs": [
    {
     "name": "stdout",
     "output_type": "stream",
     "text": [
      "key is dev value is porbandar\n"
     ]
    }
   ],
   "source": [
    "key = \"dev\"\n",
    "val = \"porbandar\"\n",
    "\n",
    "fstr = \"key is {} value is {}\"\n",
    "print(fstr.format(key,val))"
   ]
  },
  {
   "cell_type": "code",
   "execution_count": null,
   "id": "63fe37e9-6b8c-482e-9bce-95e4b0a46722",
   "metadata": {},
   "outputs": [],
   "source": [
    "#create a list of 5 element \n",
    "#clone list use assignment and name it list2"
   ]
  },
  {
   "cell_type": "code",
   "execution_count": 1,
   "id": "29de11e4-691f-4863-b5cf-40df3d8267b8",
   "metadata": {},
   "outputs": [
    {
     "name": "stdout",
     "output_type": "stream",
     "text": [
      "[[1, 2], [3, 4]]\n",
      "2\n"
     ]
    }
   ],
   "source": [
    "row1 = [1,2]\n",
    "row2 = [3,4]\n",
    "matrix = [row1, row2]\n",
    "print(matrix)\n",
    "print(len(matrix))"
   ]
  },
  {
   "cell_type": "code",
   "execution_count": 3,
   "id": "d2531b32-0d29-4edf-8c5c-de2161fef979",
   "metadata": {},
   "outputs": [],
   "source": [
    "matrix[0]=10"
   ]
  },
  {
   "cell_type": "code",
   "execution_count": 5,
   "id": "f634f38f-d72f-46fe-a571-c212cc396160",
   "metadata": {},
   "outputs": [
    {
     "data": {
      "text/plain": [
       "[10, [3, 4]]"
      ]
     },
     "execution_count": 5,
     "metadata": {},
     "output_type": "execute_result"
    }
   ],
   "source": [
    "matrix"
   ]
  },
  {
   "cell_type": "code",
   "execution_count": 41,
   "id": "bc088e9f-3038-49c6-88e4-20bc7b4b4399",
   "metadata": {},
   "outputs": [
    {
     "name": "stdout",
     "output_type": "stream",
     "text": [
      "Before Append ListA : 2147754402176 <class 'list'> [1, 2, 3, 4, 6, 7, 8, [123, 8434]]\n",
      "Before Append ListB : 2147754402176 <class 'list'> [1, 2, 3, 4, 6, 7, 8, [123, 8434]]\n",
      "After Append ListB : 2147754402176 <class 'list'> [0, 2, 3, 4, 6, 7, 8, [123, 8434]]\n",
      "After Append ListA : 2147754402176 <class 'list'> [0, 2, 3, 4, 6, 7, 8, [123, 8434, 1000]]\n",
      "After Append ListB : 2147754402176 <class 'list'> [0, 2, 3, 4, 6, 7, 8, [123, 8434, 1000]]\n"
     ]
    }
   ],
   "source": [
    "ListA = [1,2,3,4,6,7,8,[123,8434]]\n",
    "\n",
    "print(\"Before Append ListA :\",id(ListA),type(ListA),ListA)\n",
    "\n",
    "\n",
    "ListB = ListA\n",
    "print(\"Before Append ListB :\",id(ListB),type(ListB),ListB)\n",
    "ListB[0] = 0\n",
    "print(\"After Append ListB :\",id(ListB),type(ListB),ListB)\n",
    "\n",
    "#print\n",
    "ListB[len(ListB)-1].append(1000)\n",
    "\n",
    "print(\"After Append ListA :\",id(ListA),type(ListA),ListA)\n",
    "print(\"After Append ListB :\",id(ListB),type(ListB),ListB)\n"
   ]
  },
  {
   "cell_type": "code",
   "execution_count": null,
   "id": "bfb89225-a341-44c0-89f5-42c9319c3a6f",
   "metadata": {},
   "outputs": [],
   "source": []
  }
 ],
 "metadata": {
  "kernelspec": {
   "display_name": "Python 3 (ipykernel)",
   "language": "python",
   "name": "python3"
  },
  "language_info": {
   "codemirror_mode": {
    "name": "ipython",
    "version": 3
   },
   "file_extension": ".py",
   "mimetype": "text/x-python",
   "name": "python",
   "nbconvert_exporter": "python",
   "pygments_lexer": "ipython3",
   "version": "3.12.4"
  }
 },
 "nbformat": 4,
 "nbformat_minor": 5
}
