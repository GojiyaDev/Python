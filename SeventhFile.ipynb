{
 "cells": [
  {
   "cell_type": "code",
   "execution_count": 3,
   "id": "7890ae70-bc6f-4f34-82e5-3dc5b652205f",
   "metadata": {},
   "outputs": [
    {
     "data": {
      "text/plain": [
       "['123@stu.upes.ac.in',\n",
       " '465@stu.upes.ac.in',\n",
       " '789@stu.upes.ac.in',\n",
       " '147@stu.upes.ac.in',\n",
       " '258@stu.upes.ac.in',\n",
       " '369@stu.upes.ac.in',\n",
       " '159@stu.upes.ac.in',\n",
       " '951@stu.upes.ac.in']"
      ]
     },
     "execution_count": 3,
     "metadata": {},
     "output_type": "execute_result"
    }
   ],
   "source": [
    "#write a program that takes a \n",
    "#list of snap ids and return a list of email addresses\n",
    "\n",
    "#input\n",
    "list = [123,\"465\",\"789\",147,\"258\",\"369\",\"159\",\"951\"]\n",
    "list2 = []\n",
    "\n",
    "#output\n",
    "\n",
    "def generate_email_addresses():\n",
    "    #for loop to print a list\n",
    "    for i in list:    \n",
    "        #sting concetition of list + @stu.upes.ac.in\n",
    "        temp = str(i)+\"@stu.upes.ac.in\"        \n",
    "        #append to new list \n",
    "        list2.append(temp)  \n",
    "    #return list2 with all the element\n",
    "    return list2    \n",
    "\n",
    "generate_email_addresses()\n",
    "\n",
    "\n"
   ]
  },
  {
   "cell_type": "code",
   "execution_count": 1,
   "id": "e9202b11-8efe-483a-8ad2-d1082766487b",
   "metadata": {},
   "outputs": [
    {
     "name": "stdout",
     "output_type": "stream",
     "text": [
      "[123, '465', '789', 147, '258', '369', '159', '951']\n",
      "['123@stu.upes.ac.in', '465@stu.upes.ac.in', '789@stu.upes.ac.in', '147@stu.upes.ac.in', '258@stu.upes.ac.in', '369@stu.upes.ac.in', '159@stu.upes.ac.in', '951@stu.upes.ac.in']\n"
     ]
    }
   ],
   "source": [
    "# Ensure you are not overwriting the built-in list object\n",
    "# Correct any instances like: list = something\n",
    "\n",
    "sap_ids = [123,\"465\",\"789\",147,\"258\",\"369\",\"159\",\"951\"]\n",
    "res = list(map(lambda id: f\"{str(id)}@stu.upes.ac.in\", sap_ids))\n",
    "\n",
    "print(sap_ids)\n",
    "print(res)\n"
   ]
  },
  {
   "cell_type": "code",
   "execution_count": 5,
   "id": "b2fc6397-6062-45eb-8a41-1286905302e4",
   "metadata": {},
   "outputs": [
    {
     "name": "stdout",
     "output_type": "stream",
     "text": [
      "[123, '465', '789', 147, '258', '369', '159', '951']\n",
      "['123@stu.upes.ac.in', '465@stu.upes.ac.in', '789@stu.upes.ac.in', '147@stu.upes.ac.in', '258@stu.upes.ac.in', '369@stu.upes.ac.in', '159@stu.upes.ac.in', '951@stu.upes.ac.in']\n"
     ]
    }
   ],
   "source": [
    "# 3 logic using list comp\n",
    "sap_ids = [123,\"465\",\"789\",147,\"258\",\"369\",\"159\",\"951\"]\n",
    "res = [ f\"{id}@stu.upes.ac.in\" for id in sap_ids ]\n",
    "\n",
    "print(sap_ids)\n",
    "print(res)"
   ]
  },
  {
   "cell_type": "code",
   "execution_count": null,
   "id": "36e9524a-6fdd-4b53-b204-51b781879166",
   "metadata": {},
   "outputs": [],
   "source": []
  }
 ],
 "metadata": {
  "kernelspec": {
   "display_name": "Python 3 (ipykernel)",
   "language": "python",
   "name": "python3"
  },
  "language_info": {
   "codemirror_mode": {
    "name": "ipython",
    "version": 3
   },
   "file_extension": ".py",
   "mimetype": "text/x-python",
   "name": "python",
   "nbconvert_exporter": "python",
   "pygments_lexer": "ipython3",
   "version": "3.12.4"
  }
 },
 "nbformat": 4,
 "nbformat_minor": 5
}
