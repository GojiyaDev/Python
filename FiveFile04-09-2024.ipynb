{
 "cells": [
  {
   "cell_type": "code",
   "execution_count": null,
   "id": "3f0f79c1-c2fc-4f86-b54f-7b440ddc0b6c",
   "metadata": {},
   "outputs": [],
   "source": [
    "#date 04-09-204\n",
    "#Python: how to copy  and deep copy in python list"
   ]
  },
  {
   "cell_type": "code",
   "execution_count": 7,
   "id": "be9ad639-8d4a-4264-aada-6d932c36ff3a",
   "metadata": {},
   "outputs": [],
   "source": [
    "def showDetails(*args):\n",
    "    for i in range(len(args)):\n",
    "        variable = args[i]\n",
    "        print(f\"The Value of { i+1 } variable is \\t{variable }\\t its id is \\t {id(variable)}\")\n",
    "    \n",
    "    print(\"\\n\\n\")"
   ]
  },
  {
   "cell_type": "code",
   "execution_count": 9,
   "id": "ee4c2f76-fd4e-46f9-94fa-89eb82709625",
   "metadata": {},
   "outputs": [
    {
     "name": "stdout",
     "output_type": "stream",
     "text": [
      "The Value of 1 variable is \t[2, 4, 6, [1, 3]]\t its id is \t 1878668249664\n",
      "The Value of 2 variable is \t[2, 4, 6, [1, 3]]\t its id is \t 1878668249664\n",
      "\n",
      "\n",
      "\n",
      "The Value of 1 variable is \t[2, 44, 6, [1, 3]]\t its id is \t 1878668249664\n",
      "The Value of 2 variable is \t[2, 44, 6, [1, 3]]\t its id is \t 1878668249664\n",
      "\n",
      "\n",
      "\n",
      "The Value of 1 variable is \t[2, 44, 6, [1, 10]]\t its id is \t 1878668249664\n",
      "The Value of 2 variable is \t[2, 44, 6, [1, 10]]\t its id is \t 1878668249664\n",
      "\n",
      "\n",
      "\n"
     ]
    }
   ],
   "source": [
    "#list operartion\n",
    "listA = [2, 4, 6, [1, 3]]\n",
    "listB = listA\n",
    "showDetails(listA,listB)\n",
    "listB[1] = 44\n",
    "\n",
    "showDetails(listA,listB)\n",
    "listB[3][1] = 10\n",
    "\n",
    "\n",
    "showDetails(listA,listB)"
   ]
  },
  {
   "cell_type": "code",
   "execution_count": null,
   "id": "14e81cc3-1eae-40e6-b8ac-c7dcb0865983",
   "metadata": {},
   "outputs": [],
   "source": [
    "#shallow copy using list() \n",
    "#copy() method"
   ]
  },
  {
   "cell_type": "code",
   "execution_count": 11,
   "id": "05d4ae43-c060-4fc1-8af9-611e803f5863",
   "metadata": {},
   "outputs": [
    {
     "name": "stdout",
     "output_type": "stream",
     "text": [
      "The Value of 1 variable is \t[2, 4, 6, [1, 3]]\t its id is \t 1878668250048\n",
      "The Value of 2 variable is \t[2, 4, 6, [1, 3]]\t its id is \t 1878668248960\n",
      "\n",
      "\n",
      "\n",
      "The Value of 1 variable is \t[2, 4, 6, [55, 3]]\t its id is \t 1878668250048\n",
      "The Value of 2 variable is \t[2, 44, 6, [55, 3]]\t its id is \t 1878668248960\n",
      "\n",
      "\n",
      "\n"
     ]
    }
   ],
   "source": [
    "import copy\n",
    "listA = [2, 4, 6, [1, 3]]\n",
    "listB = copy.copy(listA)\n",
    "\n",
    "showDetails(listA,listB)\n",
    "listB[1] = 44\n",
    "listB[3][0] = 55\n",
    "showDetails(listA,listB)"
   ]
  },
  {
   "cell_type": "code",
   "execution_count": null,
   "id": "327ca2b1-9446-4183-98e9-0a8e499e44ae",
   "metadata": {},
   "outputs": [],
   "source": [
    "#deepCopy"
   ]
  },
  {
   "cell_type": "code",
   "execution_count": 13,
   "id": "0bfbc9f2-bf78-4aca-ae5f-7044a0929077",
   "metadata": {},
   "outputs": [
    {
     "name": "stdout",
     "output_type": "stream",
     "text": [
      "The Value of 1 variable is \t[2, 4, 6, [1, 3]]\t its id is \t 1878668247104\n",
      "The Value of 2 variable is \t[2, 4, 6, [1, 3]]\t its id is \t 1878668256576\n",
      "\n",
      "\n",
      "\n",
      "The Value of 1 variable is \t[2, 4, 6, [1, 3]]\t its id is \t 1878668247104\n",
      "The Value of 2 variable is \t[2, 44, 6, [55, 3]]\t its id is \t 1878668256576\n",
      "\n",
      "\n",
      "\n"
     ]
    }
   ],
   "source": [
    "import copy\n",
    "listA = [2, 4, 6, [1, 3]]\n",
    "listB = copy.deepcopy(listA)\n",
    "showDetails(listA,listB)\n",
    "listB[1] = 44\n",
    "listB[3][0] = 55\n",
    "showDetails(listA,listB)"
   ]
  },
  {
   "cell_type": "code",
   "execution_count": null,
   "id": "84b3a1b1-6097-4dd9-8a93-e8fa3e69a0fc",
   "metadata": {},
   "outputs": [],
   "source": [
    "#Defining Your Own Function"
   ]
  },
  {
   "cell_type": "code",
   "execution_count": null,
   "id": "478a807f-8af3-44b8-9f05-d55193ffab0e",
   "metadata": {},
   "outputs": [],
   "source": [
    "def greet(name):\n",
    "\n",
    "    \"\"\"Greets a person by their name.\"\"\"\n",
    "    return f\"Hello, {name}!\"\n"
   ]
  },
  {
   "cell_type": "code",
   "execution_count": 7,
   "id": "d05aa1a0-9521-4f51-9937-3b166a788d53",
   "metadata": {},
   "outputs": [
    {
     "ename": "NameError",
     "evalue": "name 'greet' is not defined",
     "output_type": "error",
     "traceback": [
      "\u001b[1;31m---------------------------------------------------------------------------\u001b[0m",
      "\u001b[1;31mNameError\u001b[0m                                 Traceback (most recent call last)",
      "Cell \u001b[1;32mIn[7], line 1\u001b[0m\n\u001b[1;32m----> 1\u001b[0m message \u001b[38;5;241m=\u001b[39m greet(\u001b[38;5;124m\"\u001b[39m\u001b[38;5;124mAlice\u001b[39m\u001b[38;5;124m\"\u001b[39m)\n\u001b[0;32m      2\u001b[0m \u001b[38;5;28mprint\u001b[39m(message)\n",
      "\u001b[1;31mNameError\u001b[0m: name 'greet' is not defined"
     ]
    }
   ],
   "source": [
    "message = greet(\"Alice\")\n",
    "print(message)  # Output: Hello, Alice!"
   ]
  },
  {
   "cell_type": "code",
   "execution_count": 9,
   "id": "398c4988-ed9c-48ad-8c5f-ebc012914824",
   "metadata": {},
   "outputs": [
    {
     "name": "stdout",
     "output_type": "stream",
     "text": [
      "22\n"
     ]
    }
   ],
   "source": [
    "#write a function to add two values and use the this function and print the result \n",
    "def add(num1, num2):\n",
    "    sum = num1 + num2\n",
    "    print(sum)\n",
    "\n",
    "add(10,12)\n"
   ]
  },
  {
   "cell_type": "code",
   "execution_count": null,
   "id": "7ebffa66-1f46-4b3a-b00d-2319f3804332",
   "metadata": {},
   "outputs": [],
   "source": []
  }
 ],
 "metadata": {
  "kernelspec": {
   "display_name": "Python 3 (ipykernel)",
   "language": "python",
   "name": "python3"
  },
  "language_info": {
   "codemirror_mode": {
    "name": "ipython",
    "version": 3
   },
   "file_extension": ".py",
   "mimetype": "text/x-python",
   "name": "python",
   "nbconvert_exporter": "python",
   "pygments_lexer": "ipython3",
   "version": "3.12.4"
  }
 },
 "nbformat": 4,
 "nbformat_minor": 5
}
